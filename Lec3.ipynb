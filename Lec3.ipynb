{
 "cells": [
  {
   "cell_type": "markdown",
   "metadata": {},
   "source": [
    "# 第三讲 乘法与逆矩阵\n",
    "\n",
    "## 矩阵乘法\n",
    "\n",
    "- 行乘列\n",
    "$C_{ij}=\\sum_{k=1}^na_{ik}b_{kj}$\n",
    "\n",
    "- 列乘行\n",
    "单列元素乘上一整行。\n",
    "\n",
    "- 分块乘法\n",
    "将矩阵分块，按照行乘列法则进行点乘。\n",
    "$\\begin{bmatrix}A_1&A_2\\\\A_3&A_4\\\\\\end{bmatrix}\\begin{bmatrix}B_1&B_2\\\\B_3&B_4\\\\\\end{bmatrix}=\\begin{bmatrix}C_1&C_2\\\\C_3&C_4\\\\\\end{bmatrix}$\n",
    "其中$C_1=A_1B_1\\cdot A_2B_3$以此类推\n",
    "\n",
    "## 逆矩阵\n",
    "$AA_{-1}=I$\n",
    "> 当矩阵为奇异矩阵时，没有逆矩阵\n",
    "> 逆矩阵是求解方程的消元矩阵\n",
    "\n",
    "## 高斯消元法\n",
    "左侧原矩阵，右侧单位矩阵，将原矩阵进行变换，成为单位矩阵，则右侧可得原矩阵的逆矩阵。\n",
    "$A|I \\rightarrow EA=I|EI \\rightarrow I|A^{-1}$  \n",
    "E为消元矩阵，也即逆矩阵。\n",
    "> 例：\n",
    "* $\\left[\\begin{array}{cc|cc}1&3&1&0\\\\2&7&0&1\\end{array}\\right]\\xrightarrow{row_2-2row_1}\\left[\\begin{array}{cc|cc}1&3&1&0\\\\0&1&-2&1\\end{array}\\right]\\xrightarrow{row_1-3row_2}\\left[\\begin{array}{cc|cc}1&0&7&-3\\\\0&1&-2&1\\end{array}\\right]$"
   ]
  },
  {
   "cell_type": "code",
   "execution_count": null,
   "metadata": {
    "collapsed": true
   },
   "outputs": [],
   "source": []
  }
 ],
 "metadata": {
  "anaconda-cloud": {},
  "kernelspec": {
   "display_name": "Python 2",
   "language": "python",
   "name": "python2"
  },
  "language_info": {
   "codemirror_mode": {
    "name": "ipython",
    "version": 2
   },
   "file_extension": ".py",
   "mimetype": "text/x-python",
   "name": "python",
   "nbconvert_exporter": "python",
   "pygments_lexer": "ipython2",
   "version": "2.7.12"
  }
 },
 "nbformat": 4,
 "nbformat_minor": 1
}
