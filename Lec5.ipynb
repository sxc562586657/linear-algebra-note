{
 "cells": [
  {
   "cell_type": "markdown",
   "metadata": {},
   "source": [
    "# 第五讲 转置、置换、n维实数向量空间\n",
    "\n",
    "## 向量空间\n",
    "- 封闭性\n",
    "在向量空间内的所有向量进行的线性组合所得结果都在该向量空间内。\n",
    "- 子空间\n",
    "在一个向量空间内，符合向量空间定义的向量集合。  \n",
    "> 例1：\n",
    "> $R^2$向量空间的子空间\n",
    ">- $R^2本身$\n",
    ">- 任何过(0, 0)的直线\n",
    ">- 零向量本身\n",
    "\n",
    "- 列空间\n",
    "矩阵中列向量们及其所有线性组合形成的集合，称为列空间。"
   ]
  }
 ],
 "metadata": {
  "kernelspec": {
   "display_name": "Python 2",
   "language": "python",
   "name": "python2"
  },
  "language_info": {
   "codemirror_mode": {
    "name": "ipython",
    "version": 2
   },
   "file_extension": ".py",
   "mimetype": "text/x-python",
   "name": "python",
   "nbconvert_exporter": "python",
   "pygments_lexer": "ipython2",
   "version": "2.7.12"
  }
 },
 "nbformat": 4,
 "nbformat_minor": 1
}
