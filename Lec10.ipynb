{
 "cells": [
  {
   "cell_type": "markdown",
   "metadata": {},
   "source": [
    "# 第十讲 四种基础子空间\n",
    "\n",
    "## 四种子空间\n",
    "- 列空间\n",
    "- 零空间\n",
    "- 行空间（矩阵的转置的列空间）\n",
    "- 左零空间（矩阵的转置的零空间）\n",
    "\n",
    "## 子空间的维数\n",
    "- 列空间：$Dim(C(A))=rank(A)=r$\n",
    "- 零空间：$Dim(N(A))=n-rank(A)=n-r$\n",
    "- 行空间：$Dim(C(A^T))=rank(A)=r$\n",
    "- 左零空间：$Dim(N(A^T))=m-rank(A)=m-r$\n",
    "\n",
    "## 矩阵空间\n",
    "例：  \n",
    "- 所有的对称矩阵\n",
    "- 所有的上三角矩阵\n",
    "- 所有的对角矩阵"
   ]
  }
 ],
 "metadata": {
  "anaconda-cloud": {},
  "kernelspec": {
   "display_name": "Python 2",
   "language": "python",
   "name": "python2"
  },
  "language_info": {
   "codemirror_mode": {
    "name": "ipython",
    "version": 2
   },
   "file_extension": ".py",
   "mimetype": "text/x-python",
   "name": "python",
   "nbconvert_exporter": "python",
   "pygments_lexer": "ipython2",
   "version": "2.7.12"
  }
 },
 "nbformat": 4,
 "nbformat_minor": 1
}
