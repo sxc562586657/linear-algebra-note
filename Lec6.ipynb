{
 "cells": [
  {
   "cell_type": "markdown",
   "metadata": {},
   "source": [
    "# 列空间与零空间\n",
    "## 列空间\n",
    "矩阵中所有列向量的所有线性组合称为列空间\n",
    "\n",
    "## 列空间与$Ax=b$\n",
    "例：$A=\\begin{bmatrix}1&1&2\\\\2&1&3\\\\3&1&4\\\\4&1&5\\end{bmatrix}$\n",
    "$Ax$相当于代表A的列向量的线性组合，**也即其列空间**  \n",
    "本例列向量为四维，三个列向量无法铺满整个四维向量空间 $\\Rightarrow$ $Ax$无法解出任意$b$\n",
    "\n",
    "## 零空间\n",
    "矩阵中列向量的所有构成零向量线性组合，即$Ax=0$中的所有x\n",
    "\n",
    "***注意，子空间必须过原点***"
   ]
  }
 ],
 "metadata": {
  "anaconda-cloud": {},
  "kernelspec": {
   "display_name": "Python 2",
   "language": "python",
   "name": "python2"
  },
  "language_info": {
   "codemirror_mode": {
    "name": "ipython",
    "version": 2
   },
   "file_extension": ".py",
   "mimetype": "text/x-python",
   "name": "python",
   "nbconvert_exporter": "python",
   "pygments_lexer": "ipython2",
   "version": "2.7.12"
  }
 },
 "nbformat": 4,
 "nbformat_minor": 1
}
