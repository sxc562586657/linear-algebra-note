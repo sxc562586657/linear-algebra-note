{
 "cells": [
  {
   "cell_type": "markdown",
   "metadata": {},
   "source": [
    "# 线性代数笔记\n",
    "\n",
    "## 简介\n",
    "\n",
    "**作者：csxleakbrain**\n",
    "\n",
    "线性代数笔记，使用 `jupyter notebook (ipython notebook)` 编写展示。\n",
    "\n",
    "`Github` 加载 `.ipynb` 的速度较慢，建议在 [Nbviewer](http://nbviewer.jupyter.org/github/sxc562586657/linear-algebra-notes/blob/master/README.ipynb)中查看该项目。\n",
    "\n",
    "----\n",
    "## 目录\n",
    "- 第01集 [方程组的几何解释](Lec1.ipynb)\n",
    "- 第02集 [矩阵消元](Lec2.ipynb)\n",
    "\n",
    "\n",
    "笔记格式借鉴[Jin Li](https://github.com/lijin-THU/)的[机器学习笔记](https://github.com/lijin-THU/notes-machine-learning)。"
   ]
  }
 ],
 "metadata": {
  "anaconda-cloud": {},
  "kernelspec": {
   "display_name": "Python 2",
   "language": "python",
   "name": "python2"
  },
  "language_info": {
   "codemirror_mode": {
    "name": "ipython",
    "version": 2
   },
   "file_extension": ".py",
   "mimetype": "text/x-python",
   "name": "python",
   "nbconvert_exporter": "python",
   "pygments_lexer": "ipython2",
   "version": "2.7.12"
  }
 },
 "nbformat": 4,
 "nbformat_minor": 1
}
