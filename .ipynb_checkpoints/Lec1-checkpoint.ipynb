{
 "cells": [
  {
   "cell_type": "markdown",
   "metadata": {},
   "source": [
    "\n",
    "# 第一讲 线性等式的几何意义  \n",
    "\n",
    "## 01 行视角  \n",
    "\n",
    "$$\\begin{cases}2x-y=0\\\\-x+2y=3\\end{cases}$$\n",
    "\n",
    "- **考虑每一行等式的几何意义，即多个等式在此空间中的相交之处**  \n",
    "\n",
    "## 02 列视角  \n",
    "\n",
    "$$x\\begin{bmatrix}2 \\\\ 1\\end{bmatrix} + y\\begin{bmatrix}-1 \\\\ 2\\end{bmatrix} = \\begin{bmatrix}0 \\\\ 3\\end{bmatrix}$$\n",
    "\n",
    "- **将未知数的系数视作向量，即寻找向量的线性组合来获得等式两边相等**  \n",
    "\n",
    "## 03 矩阵视角  \n",
    "\n",
    "$$\\begin{array}{cccc}\\rm{系数矩阵} & \\rm{未知数向量} \\\\\\begin{bmatrix}2 & -1\\\\ -1 & 2\\end{bmatrix}&\\begin{bmatrix}x \\\\ y\\end{bmatrix}&=\\begin{bmatrix}0 \\\\ 3\\end{bmatrix}\\\\A & x & = b\\end{array}$$\n",
    "\n",
    "- **将系数视作矩阵，将未知量视作向量，进行求解**  \n",
    "\n",
    "## 04 矩阵乘法  \n",
    "\n",
    "1. 线性组合思路\n",
    "\n",
    "$$\\begin{bmatrix}2 & 5\\\\ 1 & 3\\end{bmatrix}\\begin{bmatrix}1 \\\\ 2\\end{bmatrix}= 1 \\begin{bmatrix}2 \\\\ 1\\end{bmatrix} + 2\\begin{bmatrix}5\\\\3\\end{bmatrix}=\\begin{bmatrix}12 \\\\ 7\\end{bmatrix}$$\n",
    "\n",
    "\n",
    "\n",
    "2. 点乘思路\n",
    "\n",
    "- **左行乘右列大法， $Row_i·Column_j=E_{ij}$**\n",
    "\n",
    "\n",
    "## 05 线性无关\n",
    "在\n",
    "$$Ax = b$$\n",
    "中，给定A\n",
    "- 若任意b情况下，存在无解的情况，则A为奇异矩阵\n",
    "- 若任意b有解，则A为非奇异矩阵\n"
   ]
  }
 ],
 "metadata": {
  "anaconda-cloud": {},
  "kernelspec": {
   "display_name": "Python 2",
   "language": "python",
   "name": "python2"
  },
  "language_info": {
   "codemirror_mode": {
    "name": "ipython",
    "version": 2
   },
   "file_extension": ".py",
   "mimetype": "text/x-python",
   "name": "python",
   "nbconvert_exporter": "python",
   "pygments_lexer": "ipython2",
   "version": "2.7.12"
  }
 },
 "nbformat": 4,
 "nbformat_minor": 1
}
