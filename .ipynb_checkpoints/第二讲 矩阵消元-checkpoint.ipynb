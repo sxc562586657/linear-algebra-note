{
 "cells": [
  {
   "cell_type": "markdown",
   "metadata": {},
   "source": [
    "# 第二讲 矩阵消元\n",
    "\n",
    "## 01 高斯消元法\n",
    "\n",
    "有$Ax=b$,$\\begin{bmatrix}1&2&1\\\\3&8&1\\\\0&4&1\\\\\\end{bmatrix}\\begin{bmatrix}x\\\\y\\\\z\\\\\\end{bmatrix}=\\begin{bmatrix}2\\\\12\\\\2\\\\\\end{bmatrix}$\n",
    "\n",
    "****\n",
    "**消元步骤**    \n",
    "\n",
    "- **Step1.** 用主元消去第一列内其他的x项，下划线元素为主元.$\\begin{bmatrix}\\underline{1}&2&1\\\\3&8&1\\\\0&4&1\\\\\\end{bmatrix}\\xrightarrow{row_2-3row_1}\\begin{bmatrix}\\underline{1}&2&1\\\\0&2&-2\\\\0&4&1\\\\\\end{bmatrix}$\n",
    "- **Step2.** 以此类推消除其他列主元外元素.  \n",
    "- **Step3.** 回代  \n",
    " $\\left[\\begin{array}{c|c}A&b\\end{array}\\right]=\\left[\\begin{array}{ccc|c}1&2&1&2\\\\3&8&1&12\\\\0&4&1&2\\end{array}\\right]\\to\\left[\\begin{array}{ccc|c}1&2&1&2\\\\0&2&-2&6\\\\0&4&1&2\\end{array}\\right]\\to\\left[\\begin{array}{ccc|c}1&2&1&2\\\\0&2&-2&6\\\\0&0&5&-10\\end{array}\\right]$\n",
    "\n",
    "根据所得自底向上求解。\n",
    "****\n",
    ">如无法成功消元，即主元为0的情况，即矩阵不可逆，也即可能存在无解情况。\n",
    "\n",
    "## 02 消元矩阵\n",
    "\n",
    "通过矩阵左乘进行消元。\n",
    "\n",
    ">也即将消元操作通过矩阵进行概括。\n",
    "\n",
    "****\n",
    "### 例：  \n",
    "* 消元法第一步操作为将第二行改成$row_2-3row_1$，其余两行不变，则有$\\begin{bmatrix}1&0&0\\\\-3&1&0\\\\0&0&1\\end{bmatrix}\\begin{bmatrix}1&2&1\\\\3&8&1\\\\0&4&1\\end{bmatrix}=\\begin{bmatrix}1&2&1\\\\0&2&-2\\\\0&4&1\\end{bmatrix}$（另外，如果三行都不变，消元矩阵就是单位矩阵$I=\\begin{bmatrix}1&0&0\\\\0&1&0\\\\0&0&1\\end{bmatrix}$，$I$之于矩阵运算相当于$1$之于四则运算。）这个消元矩阵我们记作$E_{21}$，即将第二行第一个元素变为零。\n",
    "\n",
    "* 接下来就是求$E_{32}$消元矩阵了，即将第三行第二个元素变为零，则$\\begin{bmatrix}1&0&0\\\\0&1&0\\\\0&-2&1\\end{bmatrix}\\begin{bmatrix}1&2&1\\\\0&2&-2\\\\0&4&1\\end{bmatrix}=\\begin{bmatrix}1&2&1\\\\0&2&-2\\\\0&0&5\\end{bmatrix}$。这就是消元所用的两个初等矩阵（elementary matrix）。\n",
    "\n",
    "* 最后，我们将这两步综合起来，即$E_{32}(E_{12}A)=U$，也就是说如果我们想从$A$矩阵直接得到$U$矩阵的话，只需要$(E_{32}E_{21})A$即可。注意，矩阵乘法虽然不能随意变动相乘次序，但是可以变动括号位置，也就是满足结合律（associative law），而结合律在矩阵运算中非常重要，很多定理的证明都需要巧妙的使用结合律。\n",
    "\n",
    "****\n",
    "\n",
    "## 03 置换矩阵\n",
    "将矩阵各行进行交换操作的矩阵,例如\n",
    "$\\begin{bmatrix}0&1&0\\\\1&0&1\\\\0&0&1\\end{bmatrix}$\n",
    "（将矩阵的第一行与第二行交换的置换矩阵）\n",
    "\n",
    "## 04 矩阵的逆\n",
    "即将该矩阵所进行的操作\b还原,也即 $AA^{-1} = I$  \n",
    "以 $E_{21}$ 为例，$\\Bigg[\\quad?\\quad\\Bigg]\\begin{bmatrix}1&0&0\\\\-3&1&0\\\\0&0&1\\end{bmatrix}=\\begin{bmatrix}1&0&0\\\\0&1&0\\\\0&0&1\\end{bmatrix}$\n",
    "\n",
    "**原变换** 是从第二行中减去三倍的第一行，那么其 **逆变换** 就是给第二行加上三倍的第一行\n",
    "$\\begin{bmatrix}1&0&0\\\\3&1&0\\\\0&0&1\\end{bmatrix}$逆矩阵\n"
   ]
  },
  {
   "cell_type": "code",
   "execution_count": null,
   "metadata": {
    "collapsed": true
   },
   "outputs": [],
   "source": []
  },
  {
   "cell_type": "code",
   "execution_count": null,
   "metadata": {
    "collapsed": true
   },
   "outputs": [],
   "source": []
  }
 ],
 "metadata": {
  "anaconda-cloud": {},
  "kernelspec": {
   "display_name": "Python 2",
   "language": "python",
   "name": "python2"
  },
  "language_info": {
   "codemirror_mode": {
    "name": "ipython",
    "version": 2
   },
   "file_extension": ".py",
   "mimetype": "text/x-python",
   "name": "python",
   "nbconvert_exporter": "python",
   "pygments_lexer": "ipython2",
   "version": "2.7.12"
  }
 },
 "nbformat": 4,
 "nbformat_minor": 1
}
