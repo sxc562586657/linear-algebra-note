{
 "cells": [
  {
   "cell_type": "markdown",
   "metadata": {},
   "source": [
    "# 第四讲 A的LU分解\n",
    "\n",
    "## AB的逆\n",
    "$(AB)^{-1}=B^{-1}A^{-1}$\n",
    "相当于对矩阵的逆操作，完全倒序操作\n",
    "\n",
    "## AB的转置\n",
    "$(AB)^T=B^TA^T$\n",
    "\n",
    "\n",
    "## A的LU分解\n",
    "A可以被分解为一个下三角矩阵和一个上三角矩阵的乘机，当且仅当A为可逆矩阵。\n",
    "\n",
    "## LU分解的复杂度\n",
    "$O(n^3)$\n",
    "\n",
    "## 行变换\n",
    "置换矩阵的逆为置换矩阵的转置\n",
    "$P^{-1}=P^T$"
   ]
  }
 ],
 "metadata": {
  "anaconda-cloud": {},
  "kernelspec": {
   "display_name": "Python 2",
   "language": "python",
   "name": "python2"
  },
  "language_info": {
   "codemirror_mode": {
    "name": "ipython",
    "version": 2
   },
   "file_extension": ".py",
   "mimetype": "text/x-python",
   "name": "python",
   "nbconvert_exporter": "python",
   "pygments_lexer": "ipython2",
   "version": "2.7.12"
  }
 },
 "nbformat": 4,
 "nbformat_minor": 1
}
