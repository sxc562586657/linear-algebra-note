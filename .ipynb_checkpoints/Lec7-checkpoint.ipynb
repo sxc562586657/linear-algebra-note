{
 "cells": [
  {
   "cell_type": "markdown",
   "metadata": {},
   "source": [
    "# 第七讲 解$Ax=0$:主元与特解\n",
    "\n",
    "## 求解步骤\n",
    "\n",
    "- 将矩阵化为阶梯矩阵  \n",
    "例：\n",
    "$A=\\begin{bmatrix}1&2&2&2\\\\2&6&4&8\\\\3&6&8&10\\end{bmatrix}\\rightarrow\\begin{bmatrix}1&2&2&2\\\\0&0&2&4\\\\0&0&0&0\\end{bmatrix}=U$\n",
    "\n",
    "- 找到特解\n",
    "将自由列设置为一个为1，其他为0（其实就是零空间的基）  \n",
    "例：  \n",
    "如上矩阵中，$x_1=\\begin{bmatrix}-2\\\\1\\\\0\\\\0\\end{bmatrix} x_2=\\begin{bmatrix}2\\\\0\\\\-2\\\\1\\end{bmatrix}$是两个零空间的基，也即$Ax=0$的两个特解  \n",
    "> 矩阵的秩为r，则自由列数量为n-r\n",
    "\n",
    "## 找特解空间的好办法\n",
    "阶梯矩阵如：  \n",
    "$U=\\begin{bmatrix}1&2&2&2\\\\0&0&2&4\\\\0&0&0&0\\end{bmatrix}$  \n",
    "经过列变换可以写成如下形式：  \n",
    "$U=\\begin{bmatrix}I&F\\\\0&0\\end{bmatrix}$  \n",
    "则特解矩阵可以表示为  \n",
    "$N=\\begin{bmatrix}-F\\\\I\\end{bmatrix}$（可能也需要行变换）"
   ]
  }
 ],
 "metadata": {
  "anaconda-cloud": {},
  "kernelspec": {
   "display_name": "Python 2",
   "language": "python",
   "name": "python2"
  },
  "language_info": {
   "codemirror_mode": {
    "name": "ipython",
    "version": 2
   },
   "file_extension": ".py",
   "mimetype": "text/x-python",
   "name": "python",
   "nbconvert_exporter": "python",
   "pygments_lexer": "ipython2",
   "version": "2.7.12"
  }
 },
 "nbformat": 4,
 "nbformat_minor": 1
}
