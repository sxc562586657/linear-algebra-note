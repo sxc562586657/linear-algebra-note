{
 "cells": [
  {
   "cell_type": "markdown",
   "metadata": {},
   "source": [
    "# 第九讲 线性相关性、基、维数\n",
    "\n",
    "## 线性相关性\n",
    "- 当$rank(A) = n$时，各列向量线性无关（零空间内只有零向量）\n",
    "- 当$rank(A) < n$时，各列向量存在线性相关（零空间内存在其他向量）\n",
    "\n",
    "## 基\n",
    "一组具有以下性质的向量\n",
    "- 互相间线性无关\n",
    "- 能够生成空间\n",
    "\n",
    "## 维数\n",
    "一组基的数量即维数\n",
    "\n",
    "列空间维数$=rank(A)$  \n",
    "零空间维数$=n - rank(A)$"
   ]
  }
 ],
 "metadata": {
  "anaconda-cloud": {},
  "kernelspec": {
   "display_name": "Python 2",
   "language": "python",
   "name": "python2"
  },
  "language_info": {
   "codemirror_mode": {
    "name": "ipython",
    "version": 2
   },
   "file_extension": ".py",
   "mimetype": "text/x-python",
   "name": "python",
   "nbconvert_exporter": "python",
   "pygments_lexer": "ipython2",
   "version": "2.7.12"
  }
 },
 "nbformat": 4,
 "nbformat_minor": 1
}
